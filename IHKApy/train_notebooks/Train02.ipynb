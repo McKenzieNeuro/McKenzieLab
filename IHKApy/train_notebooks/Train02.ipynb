{
 "cells": [
  {
   "cell_type": "code",
   "execution_count": 1,
   "id": "e953039b",
   "metadata": {},
   "outputs": [],
   "source": [
    "# Import imbalanced_ensemble\n",
    "import imbalanced_ensemble as imbens\n",
    "\n",
    "# # Import utilities\n",
    "# from collections import Counter\n",
    "# import sklearn\n",
    "# from sklearn.datasets import make_classification\n",
    "# from sklearn.model_selection import train_test_split\n",
    "# from imbalanced_ensemble.ensemble.base import sort_dict_by_key\n",
    "\n",
    "# Import plot utilities\n",
    "import matplotlib.pyplot as plt\n",
    "from imbalanced_ensemble.utils._plot import plot_2Dprojection_and_cardinality\n",
    "import seaborn as sns\n",
    "\n",
    "# Numerical Utils\n",
    "import pandas as pd\n",
    "import numpy as np\n",
    "\n"
   ]
  },
  {
   "cell_type": "markdown",
   "id": "470215ee",
   "metadata": {},
   "source": [
    "## Load featureset"
   ]
  },
  {
   "cell_type": "code",
   "execution_count": 4,
   "id": "1bbc25a8",
   "metadata": {},
   "outputs": [
    {
     "data": {
      "text/html": [
       "<div>\n",
       "<style scoped>\n",
       "    .dataframe tbody tr th:only-of-type {\n",
       "        vertical-align: middle;\n",
       "    }\n",
       "\n",
       "    .dataframe tbody tr th {\n",
       "        vertical-align: top;\n",
       "    }\n",
       "\n",
       "    .dataframe thead th {\n",
       "        text-align: right;\n",
       "    }\n",
       "</style>\n",
       "<table border=\"1\" class=\"dataframe\">\n",
       "  <thead>\n",
       "    <tr style=\"text-align: right;\">\n",
       "      <th></th>\n",
       "      <th>session_basename</th>\n",
       "      <th>time_bin</th>\n",
       "      <th>mean_power_chraw_000_chfreq_001</th>\n",
       "      <th>mean_power_chraw_000_chfreq_003</th>\n",
       "      <th>mean_power_chraw_000_chfreq_005</th>\n",
       "      <th>mean_power_chraw_000_chfreq_007</th>\n",
       "      <th>mean_power_chraw_000_chfreq_009</th>\n",
       "      <th>mean_power_chraw_000_chfreq_011</th>\n",
       "      <th>mean_power_chraw_000_chfreq_013</th>\n",
       "      <th>mean_power_chraw_000_chfreq_015</th>\n",
       "      <th>...</th>\n",
       "      <th>coherence_freq_500.0_chx_001_chy_003</th>\n",
       "      <th>coherence_freq_1000.0_chx_001_chy_003</th>\n",
       "      <th>coherence_freq_0.0_chx_002_chy_003</th>\n",
       "      <th>coherence_freq_15.62_chx_002_chy_003</th>\n",
       "      <th>coherence_freq_31.25_chx_002_chy_003</th>\n",
       "      <th>coherence_freq_62.5_chx_002_chy_003</th>\n",
       "      <th>coherence_freq_125.0_chx_002_chy_003</th>\n",
       "      <th>coherence_freq_250.0_chx_002_chy_003</th>\n",
       "      <th>coherence_freq_500.0_chx_002_chy_003</th>\n",
       "      <th>coherence_freq_1000.0_chx_002_chy_003</th>\n",
       "    </tr>\n",
       "  </thead>\n",
       "  <tbody>\n",
       "    <tr>\n",
       "      <th>0</th>\n",
       "      <td>AC75a-5 DOB 072519_TS_2020-03-23_17_30_04</td>\n",
       "      <td>pre1</td>\n",
       "      <td>56.7156</td>\n",
       "      <td>144.1807</td>\n",
       "      <td>-7.8824</td>\n",
       "      <td>7.6939</td>\n",
       "      <td>24.4479</td>\n",
       "      <td>1.4429</td>\n",
       "      <td>1.4656</td>\n",
       "      <td>-4.8560</td>\n",
       "      <td>...</td>\n",
       "      <td>0.018004</td>\n",
       "      <td>3.650702e-02</td>\n",
       "      <td>0.238529</td>\n",
       "      <td>0.491751</td>\n",
       "      <td>0.472625</td>\n",
       "      <td>0.143596</td>\n",
       "      <td>0.000278</td>\n",
       "      <td>0.029355</td>\n",
       "      <td>0.002549</td>\n",
       "      <td>0.007221</td>\n",
       "    </tr>\n",
       "    <tr>\n",
       "      <th>1</th>\n",
       "      <td>AC75a-5 DOB 072519_TS_2020-03-23_17_30_04</td>\n",
       "      <td>pre1</td>\n",
       "      <td>-53.9221</td>\n",
       "      <td>-7.3805</td>\n",
       "      <td>-13.5823</td>\n",
       "      <td>20.5395</td>\n",
       "      <td>-16.4621</td>\n",
       "      <td>-2.7195</td>\n",
       "      <td>-2.8214</td>\n",
       "      <td>2.0746</td>\n",
       "      <td>...</td>\n",
       "      <td>0.012172</td>\n",
       "      <td>7.533822e-04</td>\n",
       "      <td>0.010505</td>\n",
       "      <td>0.427188</td>\n",
       "      <td>0.386341</td>\n",
       "      <td>0.040605</td>\n",
       "      <td>0.019880</td>\n",
       "      <td>0.005875</td>\n",
       "      <td>0.004259</td>\n",
       "      <td>0.000952</td>\n",
       "    </tr>\n",
       "    <tr>\n",
       "      <th>2</th>\n",
       "      <td>AC75a-5 DOB 072519_TS_2020-03-23_17_30_04</td>\n",
       "      <td>pre1</td>\n",
       "      <td>4.8714</td>\n",
       "      <td>-6.8261</td>\n",
       "      <td>-5.0513</td>\n",
       "      <td>36.6682</td>\n",
       "      <td>-1.0790</td>\n",
       "      <td>-7.5667</td>\n",
       "      <td>2.0832</td>\n",
       "      <td>13.6164</td>\n",
       "      <td>...</td>\n",
       "      <td>0.010886</td>\n",
       "      <td>2.948796e-03</td>\n",
       "      <td>0.663858</td>\n",
       "      <td>0.857009</td>\n",
       "      <td>0.820433</td>\n",
       "      <td>0.205777</td>\n",
       "      <td>0.003827</td>\n",
       "      <td>0.018094</td>\n",
       "      <td>0.009289</td>\n",
       "      <td>0.000653</td>\n",
       "    </tr>\n",
       "    <tr>\n",
       "      <th>3</th>\n",
       "      <td>AC75a-5 DOB 072519_TS_2020-03-23_17_30_04</td>\n",
       "      <td>pre1</td>\n",
       "      <td>-21.5319</td>\n",
       "      <td>-30.1663</td>\n",
       "      <td>-17.5068</td>\n",
       "      <td>3.2853</td>\n",
       "      <td>-39.3127</td>\n",
       "      <td>-10.5423</td>\n",
       "      <td>7.5530</td>\n",
       "      <td>-10.8521</td>\n",
       "      <td>...</td>\n",
       "      <td>0.013975</td>\n",
       "      <td>9.473201e-07</td>\n",
       "      <td>0.906969</td>\n",
       "      <td>0.954968</td>\n",
       "      <td>0.940081</td>\n",
       "      <td>0.486140</td>\n",
       "      <td>0.026860</td>\n",
       "      <td>0.004638</td>\n",
       "      <td>0.009801</td>\n",
       "      <td>0.017705</td>\n",
       "    </tr>\n",
       "    <tr>\n",
       "      <th>4</th>\n",
       "      <td>AC75a-5 DOB 072519_TS_2020-03-23_17_30_04</td>\n",
       "      <td>pre1</td>\n",
       "      <td>9.2739</td>\n",
       "      <td>-9.3193</td>\n",
       "      <td>1.0454</td>\n",
       "      <td>-7.7290</td>\n",
       "      <td>-29.2110</td>\n",
       "      <td>7.3796</td>\n",
       "      <td>-2.2477</td>\n",
       "      <td>-38.6640</td>\n",
       "      <td>...</td>\n",
       "      <td>0.003615</td>\n",
       "      <td>5.160409e-03</td>\n",
       "      <td>0.083028</td>\n",
       "      <td>0.208803</td>\n",
       "      <td>0.111817</td>\n",
       "      <td>0.018398</td>\n",
       "      <td>0.002199</td>\n",
       "      <td>0.043590</td>\n",
       "      <td>0.011841</td>\n",
       "      <td>0.004030</td>\n",
       "    </tr>\n",
       "  </tbody>\n",
       "</table>\n",
       "<p>5 rows × 294 columns</p>\n",
       "</div>"
      ],
      "text/plain": [
       "                            session_basename time_bin  \\\n",
       "0  AC75a-5 DOB 072519_TS_2020-03-23_17_30_04     pre1   \n",
       "1  AC75a-5 DOB 072519_TS_2020-03-23_17_30_04     pre1   \n",
       "2  AC75a-5 DOB 072519_TS_2020-03-23_17_30_04     pre1   \n",
       "3  AC75a-5 DOB 072519_TS_2020-03-23_17_30_04     pre1   \n",
       "4  AC75a-5 DOB 072519_TS_2020-03-23_17_30_04     pre1   \n",
       "\n",
       "   mean_power_chraw_000_chfreq_001  mean_power_chraw_000_chfreq_003  \\\n",
       "0                          56.7156                         144.1807   \n",
       "1                         -53.9221                          -7.3805   \n",
       "2                           4.8714                          -6.8261   \n",
       "3                         -21.5319                         -30.1663   \n",
       "4                           9.2739                          -9.3193   \n",
       "\n",
       "   mean_power_chraw_000_chfreq_005  mean_power_chraw_000_chfreq_007  \\\n",
       "0                          -7.8824                           7.6939   \n",
       "1                         -13.5823                          20.5395   \n",
       "2                          -5.0513                          36.6682   \n",
       "3                         -17.5068                           3.2853   \n",
       "4                           1.0454                          -7.7290   \n",
       "\n",
       "   mean_power_chraw_000_chfreq_009  mean_power_chraw_000_chfreq_011  \\\n",
       "0                          24.4479                           1.4429   \n",
       "1                         -16.4621                          -2.7195   \n",
       "2                          -1.0790                          -7.5667   \n",
       "3                         -39.3127                         -10.5423   \n",
       "4                         -29.2110                           7.3796   \n",
       "\n",
       "   mean_power_chraw_000_chfreq_013  mean_power_chraw_000_chfreq_015  ...  \\\n",
       "0                           1.4656                          -4.8560  ...   \n",
       "1                          -2.8214                           2.0746  ...   \n",
       "2                           2.0832                          13.6164  ...   \n",
       "3                           7.5530                         -10.8521  ...   \n",
       "4                          -2.2477                         -38.6640  ...   \n",
       "\n",
       "   coherence_freq_500.0_chx_001_chy_003  \\\n",
       "0                              0.018004   \n",
       "1                              0.012172   \n",
       "2                              0.010886   \n",
       "3                              0.013975   \n",
       "4                              0.003615   \n",
       "\n",
       "   coherence_freq_1000.0_chx_001_chy_003  coherence_freq_0.0_chx_002_chy_003  \\\n",
       "0                           3.650702e-02                            0.238529   \n",
       "1                           7.533822e-04                            0.010505   \n",
       "2                           2.948796e-03                            0.663858   \n",
       "3                           9.473201e-07                            0.906969   \n",
       "4                           5.160409e-03                            0.083028   \n",
       "\n",
       "   coherence_freq_15.62_chx_002_chy_003  coherence_freq_31.25_chx_002_chy_003  \\\n",
       "0                              0.491751                              0.472625   \n",
       "1                              0.427188                              0.386341   \n",
       "2                              0.857009                              0.820433   \n",
       "3                              0.954968                              0.940081   \n",
       "4                              0.208803                              0.111817   \n",
       "\n",
       "   coherence_freq_62.5_chx_002_chy_003  coherence_freq_125.0_chx_002_chy_003  \\\n",
       "0                             0.143596                              0.000278   \n",
       "1                             0.040605                              0.019880   \n",
       "2                             0.205777                              0.003827   \n",
       "3                             0.486140                              0.026860   \n",
       "4                             0.018398                              0.002199   \n",
       "\n",
       "   coherence_freq_250.0_chx_002_chy_003  coherence_freq_500.0_chx_002_chy_003  \\\n",
       "0                              0.029355                              0.002549   \n",
       "1                              0.005875                              0.004259   \n",
       "2                              0.018094                              0.009289   \n",
       "3                              0.004638                              0.009801   \n",
       "4                              0.043590                              0.011841   \n",
       "\n",
       "   coherence_freq_1000.0_chx_002_chy_003  \n",
       "0                               0.007221  \n",
       "1                               0.000952  \n",
       "2                               0.000653  \n",
       "3                               0.017705  \n",
       "4                               0.004030  \n",
       "\n",
       "[5 rows x 294 columns]"
      ]
     },
     "execution_count": 4,
     "metadata": {},
     "output_type": "execute_result"
    }
   ],
   "source": [
    "feats_csv_path = \"AC75a-5 DOB 072519_TS_2020-03-23_17_30_04.csv\"\n",
    "df = pd.read_csv(feats_csv_path,index_col=0)\n",
    "df.head()"
   ]
  },
  {
   "cell_type": "markdown",
   "id": "4ebd2697",
   "metadata": {},
   "source": [
    "## Preprocessing"
   ]
  },
  {
   "cell_type": "code",
   "execution_count": 11,
   "id": "7f0f9d42",
   "metadata": {},
   "outputs": [],
   "source": [
    "from sklearn.preprocessing import StandardScaler\n",
    "from sklearn.model_selection import train_test_split"
   ]
  },
  {
   "cell_type": "code",
   "execution_count": 12,
   "id": "19a84b67",
   "metadata": {},
   "outputs": [],
   "source": [
    "# Select features\n",
    "X = df.drop([\"session_basename\",\"time_bin\"],axis=1)\n",
    "# Standardize the features\n",
    "X = StandardScaler().fit_transform(X)\n",
    "# Select classes\n",
    "y = list(df[\"time_bin\"])"
   ]
  },
  {
   "cell_type": "code",
   "execution_count": 14,
   "id": "62f9625a",
   "metadata": {},
   "outputs": [
    {
     "data": {
      "image/png": "[encoded data removed]",
      "text/plain": [
       "<Figure size 576x288 with 2 Axes>"
      ]
     },
     "metadata": {
      "needs_background": "light"
     },
     "output_type": "display_data"
    }
   ],
   "source": [
    "class_dic = {\"pre1\":0,\"pre2\":1,\"pre3\":2,\"pre4\":3,\"intra\":4,\"post\":5}\n",
    "X_train, X_valid, y_train, y_valid = train_test_split(X, \n",
    "                                                      y,\n",
    "                                                      test_size=0.4,\n",
    "                                                      stratify=y,\n",
    "                                                      random_state=RANDOM_STATE)\n",
    "# Visualize the training dataset\n",
    "fig = plot_2Dprojection_and_cardinality(X_train, [class_dic[i] for i in y_train], figsize=(8, 4))\n",
    "plt.show()\n"
   ]
  },
  {
   "cell_type": "markdown",
   "id": "f192f985",
   "metadata": {},
   "source": [
    "## Train\n",
    "\n",
    "Links: [medium guid](https://medium.com/urbint-engineering/using-smoteboost-and-rusboost-to-deal-with-class-imbalance-c18f8bf5b805), [RUSboost paper](https://sci2s.ugr.es/keel/pdf/algorithm/articulo/2010-IEEE%20TSMCpartA-RUSBoost%20A%20Hybrid%20Approach%20to%20Alleviating%20Class%20Imbalance.pdf), [SMOTE paper](https://www-users.cse.umn.edu/~lazar027/papers/pkdd03.pdf)\n",
    "\n",
    "Ensemble methods\n",
    "1. Just AdaBoost, for baseline\n",
    "2. SMOTE sampling and then AdaBoost (Synthetic Minority Over-sampling TEchnique)\n",
    "3. RUS sampling and then AdaBoost (Random Under Sampling)"
   ]
  },
  {
   "cell_type": "code",
   "execution_count": null,
   "id": "02c9fae9",
   "metadata": {},
   "outputs": [],
   "source": [
    "RANDOM_STATE = 42"
   ]
  },
  {
   "cell_type": "code",
   "execution_count": 65,
   "id": "a863133e",
   "metadata": {
    "scrolled": true
   },
   "outputs": [],
   "source": [
    "from sklearn.ensemble import AdaBoostClassifier\n",
    "from imblearn.over_sampling import SMOTE, RandomOverSampler\n",
    "import smote\n",
    "from imblearn.under_sampling import RandomUnderSampler as RUS"
   ]
  },
  {
   "cell_type": "code",
   "execution_count": 67,
   "id": "49a84460",
   "metadata": {},
   "outputs": [],
   "source": [
    "def adaboost(X_train, X_test, y_train):\n",
    "    model = AdaBoostClassifier(n_estimators=100, random_state=RANDOM_STATE)\n",
    "    model.fit(X_train, y_train)\n",
    "    y_pred = model.predict(X_test)\n",
    "    return y_pred\n",
    "\n",
    "# AdaBoost\n",
    "y_baseline = adaboost(X_train, X_valid, y_train)\n",
    "\n",
    "# SMOTE\n",
    "sm = SMOTE(random_state=RANDOM_STATE)\n",
    "X_train_sm, y_train_sm = sm.fit_resample(X_train, y_train)\n",
    "y_smote = adaboost(X_train_sm, X_valid, y_train_sm)\n",
    "\n",
    "# RUS\n",
    "rus = RUS(random_state=RANDOM_STATE)\n",
    "X_train_rus, y_train_rus = rus.fit_resample(X_train, y_train)\n",
    "y_rus = adaboost(X_train_rus, X_valid, y_train_rus)"
   ]
  },
  {
   "cell_type": "markdown",
   "id": "eb0fc691",
   "metadata": {},
   "source": [
    "## Evaluate models"
   ]
  },
  {
   "cell_type": "code",
   "execution_count": 68,
   "id": "da78be33",
   "metadata": {},
   "outputs": [],
   "source": [
    "from sklearn.metrics import classification_report"
   ]
  },
  {
   "cell_type": "code",
   "execution_count": 69,
   "id": "7de2d785",
   "metadata": {},
   "outputs": [
    {
     "name": "stdout",
     "output_type": "stream",
     "text": [
      "              precision    recall  f1-score   support\n",
      "\n",
      "       intra       0.92      0.63      0.75        19\n",
      "        post       0.60      0.88      0.72        67\n",
      "        pre1       0.43      0.97      0.60        87\n",
      "        pre2       0.00      0.00      0.00        60\n",
      "        pre3       0.00      0.00      0.00        67\n",
      "        pre4       0.00      0.00      0.00         6\n",
      "\n",
      "    accuracy                           0.51       306\n",
      "   macro avg       0.33      0.41      0.34       306\n",
      "weighted avg       0.31      0.51      0.37       306\n",
      "\n"
     ]
    },
    {
     "name": "stderr",
     "output_type": "stream",
     "text": [
      "/opt/homebrew/Caskroom/miniforge/base/lib/python3.9/site-packages/sklearn/metrics/_classification.py:1327: UndefinedMetricWarning: Precision and F-score are ill-defined and being set to 0.0 in labels with no predicted samples. Use `zero_division` parameter to control this behavior.\n",
      "  _warn_prf(average, modifier, msg_start, len(result))\n",
      "/opt/homebrew/Caskroom/miniforge/base/lib/python3.9/site-packages/sklearn/metrics/_classification.py:1327: UndefinedMetricWarning: Precision and F-score are ill-defined and being set to 0.0 in labels with no predicted samples. Use `zero_division` parameter to control this behavior.\n",
      "  _warn_prf(average, modifier, msg_start, len(result))\n",
      "/opt/homebrew/Caskroom/miniforge/base/lib/python3.9/site-packages/sklearn/metrics/_classification.py:1327: UndefinedMetricWarning: Precision and F-score are ill-defined and being set to 0.0 in labels with no predicted samples. Use `zero_division` parameter to control this behavior.\n",
      "  _warn_prf(average, modifier, msg_start, len(result))\n"
     ]
    }
   ],
   "source": [
    "# AdaBoost\n",
    "print(classification_report(y_valid, y_baseline))"
   ]
  },
  {
   "cell_type": "code",
   "execution_count": 70,
   "id": "f1cb9fd2",
   "metadata": {},
   "outputs": [
    {
     "name": "stdout",
     "output_type": "stream",
     "text": [
      "              precision    recall  f1-score   support\n",
      "\n",
      "       intra       0.92      0.63      0.75        19\n",
      "        post       0.22      0.96      0.36        67\n",
      "        pre1       0.00      0.00      0.00        87\n",
      "        pre2       0.00      0.00      0.00        60\n",
      "        pre3       0.00      0.00      0.00        67\n",
      "        pre4       0.00      0.00      0.00         6\n",
      "\n",
      "    accuracy                           0.25       306\n",
      "   macro avg       0.19      0.26      0.19       306\n",
      "weighted avg       0.11      0.25      0.13       306\n",
      "\n"
     ]
    },
    {
     "name": "stderr",
     "output_type": "stream",
     "text": [
      "/opt/homebrew/Caskroom/miniforge/base/lib/python3.9/site-packages/sklearn/metrics/_classification.py:1327: UndefinedMetricWarning: Precision and F-score are ill-defined and being set to 0.0 in labels with no predicted samples. Use `zero_division` parameter to control this behavior.\n",
      "  _warn_prf(average, modifier, msg_start, len(result))\n",
      "/opt/homebrew/Caskroom/miniforge/base/lib/python3.9/site-packages/sklearn/metrics/_classification.py:1327: UndefinedMetricWarning: Precision and F-score are ill-defined and being set to 0.0 in labels with no predicted samples. Use `zero_division` parameter to control this behavior.\n",
      "  _warn_prf(average, modifier, msg_start, len(result))\n",
      "/opt/homebrew/Caskroom/miniforge/base/lib/python3.9/site-packages/sklearn/metrics/_classification.py:1327: UndefinedMetricWarning: Precision and F-score are ill-defined and being set to 0.0 in labels with no predicted samples. Use `zero_division` parameter to control this behavior.\n",
      "  _warn_prf(average, modifier, msg_start, len(result))\n"
     ]
    }
   ],
   "source": [
    "# SMOTE\n",
    "print(classification_report(y_valid, y_smote))"
   ]
  },
  {
   "cell_type": "code",
   "execution_count": 71,
   "id": "8edeb196",
   "metadata": {},
   "outputs": [
    {
     "name": "stdout",
     "output_type": "stream",
     "text": [
      "              precision    recall  f1-score   support\n",
      "\n",
      "       intra       1.00      0.58      0.73        19\n",
      "        post       0.22      0.12      0.15        67\n",
      "        pre1       0.28      0.71      0.41        87\n",
      "        pre2       0.33      0.02      0.03        60\n",
      "        pre3       0.00      0.00      0.00        67\n",
      "        pre4       0.00      0.00      0.00         6\n",
      "\n",
      "    accuracy                           0.27       306\n",
      "   macro avg       0.31      0.24      0.22       306\n",
      "weighted avg       0.26      0.27      0.20       306\n",
      "\n"
     ]
    }
   ],
   "source": [
    "# SMOTE\n",
    "print(classification_report(y_valid, y_rus))"
   ]
  },
  {
   "cell_type": "code",
   "execution_count": null,
   "id": "1f1a55ca",
   "metadata": {},
   "outputs": [],
   "source": []
  }
 ],
 "metadata": {
  "kernelspec": {
   "display_name": "Python 3 (ipykernel)",
   "language": "python",
   "name": "python3"
  },
  "language_info": {
   "codemirror_mode": {
    "name": "ipython",
    "version": 3
   },
   "file_extension": ".py",
   "mimetype": "text/x-python",
   "name": "python",
   "nbconvert_exporter": "python",
   "pygments_lexer": "ipython3",
   "version": "3.9.5"
  }
 },
 "nbformat": 4,
 "nbformat_minor": 5
}
